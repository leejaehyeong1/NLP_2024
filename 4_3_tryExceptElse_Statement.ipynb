{
  "nbformat": 4,
  "nbformat_minor": 0,
  "metadata": {
    "colab": {
      "provenance": [],
      "include_colab_link": true
    },
    "kernelspec": {
      "name": "python3",
      "display_name": "Python 3"
    },
    "language_info": {
      "name": "python"
    }
  },
  "cells": [
    {
      "cell_type": "markdown",
      "metadata": {
        "id": "view-in-github",
        "colab_type": "text"
      },
      "source": [
        "<a href=\"https://colab.research.google.com/github/leejaehyeong1/NLP_2024/blob/main/4_3_tryExceptElse_Statement.ipynb\" target=\"_parent\"><img src=\"https://colab.research.google.com/assets/colab-badge.svg\" alt=\"Open In Colab\"/></a>"
      ]
    },
    {
      "cell_type": "markdown",
      "source": [
        "## 🔨 try ~ except ~ else/finally\n",
        "---\n",
        "\n",
        "1️⃣ 프로그램을 작성 후 실행되는 동안 오류가 발생하면 프로그램은 더 이상 진행되지 않는다. 이 상황을 예외 (exeption) 상황이라고 한다.\n",
        "\n",
        "2️⃣ try: ~ except:\n",
        "  - Exeption 이 있더라도 프로그램 중단 없이 예외에 대하여 적절히 처리하여 프로그램을 진행시킬 수 있도록 하는 구문\n",
        "\n",
        "3️⃣ try: ~ except: ~ else:\n",
        "  - 어떤 로직을 수행했을 때 오류 상황이 아닌 경우에만 어떤 작업을 수행하는 코드를 작성해야 할 때\n",
        "  - 예외 Exception이 발행하면 else 부분은 수행되지 않음\n",
        "\n",
        "4️⃣ try: ~ except: ~ finally:\n",
        "  - 오류 발생과 상관없이 어떤 코드를 무조건 실행 시킬 때\n"
      ],
      "metadata": {
        "id": "3V3eF3-rqKDl"
      }
    },
    {
      "cell_type": "code",
      "execution_count": null,
      "metadata": {
        "colab": {
          "base_uri": "https://localhost:8080/"
        },
        "id": "XKm8hYRNqJE2",
        "outputId": "76fc2f84-6ffb-402b-8743-f74b1bec69ab"
      },
      "outputs": [
        {
          "output_type": "stream",
          "name": "stdout",
          "text": [
            "How are you?\n",
            "Exception occurred\n"
          ]
        }
      ],
      "source": [
        "# 위 2️⃣ 의 예시 (try: ~ except)\n",
        "\n",
        "try:\n",
        "  print ('How are you?')\n",
        "  print (param) #param 변수가 정의되지 않았으므로 NameError 예외가 발생. 예외가 발생하면 프로그램은 try 블록을 빠져나와 except 블록으로 이동.\n",
        "\n",
        "except:\n",
        "  print ('Exception occurred') #except 블록에서는 \"Exception occurred\"라는 메시지가 출력된다."
      ]
    },
    {
      "cell_type": "code",
      "source": [
        "try:\n",
        "  print('How are you?')\n",
        "  print(parm)\n",
        "\n",
        "except:\n",
        "  print('Exception occurred')"
      ],
      "metadata": {
        "id": "268dDSQdxh3t",
        "outputId": "bd3c7b20-e64b-4558-ff72-5fc58f936ea2",
        "colab": {
          "base_uri": "https://localhost:8080/"
        }
      },
      "execution_count": 1,
      "outputs": [
        {
          "output_type": "stream",
          "name": "stdout",
          "text": [
            "How are you?\n",
            "Exception occurred\n"
          ]
        }
      ]
    },
    {
      "cell_type": "code",
      "source": [
        "# 위 2️⃣ 의 예시 (try: ~ except)\n",
        "\n",
        "try:\n",
        "  print ('How are you?')\n",
        "  # print (param) #해당 코드라인 비활성화시켜 param 변수 사용하여 출력 시도 안함.\n",
        "  #💊param 변수가 정의되지 않은 것이 없으면 NameError 예외가 발생 안함. 예외가 발생하지 않았음으로 프로그램은 try 블록을 빠져나오지 않고, except 블록으로 이동할 필요도 없음.\n",
        "\n",
        "except:\n",
        "  print ('Exception occurred') #except 블록에서는 \"Exception occurred\"라는 메시지가 출력된다."
      ],
      "metadata": {
        "id": "KNr3PPDkPVtK",
        "outputId": "a11b08af-08b8-4007-d539-d9cc13fdcdad",
        "colab": {
          "base_uri": "https://localhost:8080/"
        }
      },
      "execution_count": null,
      "outputs": [
        {
          "output_type": "stream",
          "name": "stdout",
          "text": [
            "How are you?\n"
          ]
        }
      ]
    },
    {
      "cell_type": "code",
      "source": [
        "try:\n",
        "  print('How are you?')\n",
        "  #print(parm)\n",
        "\n",
        "except:\n",
        "  print('Exception occurred')"
      ],
      "metadata": {
        "id": "akkFFaUdx-2l",
        "outputId": "8042bf18-dbfe-413b-9de2-7e2ab686d798",
        "colab": {
          "base_uri": "https://localhost:8080/"
        }
      },
      "execution_count": 2,
      "outputs": [
        {
          "output_type": "stream",
          "name": "stdout",
          "text": [
            "How are you?\n"
          ]
        }
      ]
    },
    {
      "cell_type": "code",
      "source": [
        "# 위 3️⃣  (try: ~ exception: ~ else: 에서 else 부분이 실행되지 않은 예시 )\n",
        "\n",
        "try:\n",
        "  print ('How are you?')\n",
        "  print (param) #param 변수를 사용하려고 시도. param 변수가 정의되지 않았으므로 NameError 예외가 발생합니다.\n",
        "\n",
        "#예외가 발생할 경우\n",
        "except:\n",
        "  print ('Exception occurred.') #예외가 발생하면 프로그램은 try 블록을 빠져나와 except 블록으로 이동. except 블록에서는 \"Exception occurred.\"라는 메시지가 출력.\n",
        "\n",
        "#예외가 발생하지 않았을 경우에만 실행됨. 이 경우 else 블록은 실행되지 않는다.\n",
        "else:\n",
        "  print ('Exception did not occur.')"
      ],
      "metadata": {
        "colab": {
          "base_uri": "https://localhost:8080/"
        },
        "id": "yI5O0MpmuDHE",
        "outputId": "863e4909-5f72-4a2c-bda7-d61ce66b13c8"
      },
      "execution_count": null,
      "outputs": [
        {
          "output_type": "stream",
          "name": "stdout",
          "text": [
            "How are you?\n",
            "Exception occurred.\n"
          ]
        }
      ]
    },
    {
      "cell_type": "code",
      "source": [
        "try:\n",
        "  print('How are you?')\n",
        "  print(parm)\n",
        "\n",
        "except:\n",
        "  print('Exception occurred')\n",
        "\n",
        "else:\n",
        "  print('Exception did not occur.')"
      ],
      "metadata": {
        "id": "b53nVjSCyD60",
        "outputId": "5cc77793-1d46-4d0a-b9f3-b2eaf3858f54",
        "colab": {
          "base_uri": "https://localhost:8080/"
        }
      },
      "execution_count": 3,
      "outputs": [
        {
          "output_type": "stream",
          "name": "stdout",
          "text": [
            "How are you?\n",
            "Exception occurred\n"
          ]
        }
      ]
    },
    {
      "cell_type": "code",
      "source": [
        "# 위 3️⃣  (try: ~ exception: ~ else: 에서 except 부분이 실행되지 않은 예시 )\n",
        "\n",
        "try:\n",
        "  print ('How are you?')\n",
        "# print (param) #해당 코드라인 비활성화시켜 param 변수 사용하여 출력 시도 안함.\n",
        "\n",
        "#예외가 발생할 경우\n",
        "except:\n",
        "  print ('Exception occurred.')\n",
        "\n",
        "#예외가 발생하지 않았을 경우에만 실행됨\n",
        "else:\n",
        "  print ('Exception did not occur.')"
      ],
      "metadata": {
        "colab": {
          "base_uri": "https://localhost:8080/"
        },
        "id": "y46HtrZSu_s2",
        "outputId": "c41091d1-bf24-40b0-eda2-e23d45e2d31e"
      },
      "execution_count": null,
      "outputs": [
        {
          "output_type": "stream",
          "name": "stdout",
          "text": [
            "How are you?\n",
            "Exception did not occur.\n"
          ]
        }
      ]
    },
    {
      "cell_type": "code",
      "source": [
        "try:\n",
        "  print('How are you?')\n",
        "  #print(parm)\n",
        "\n",
        "except:\n",
        "  print('Exception occurred')\n",
        "\n",
        "else:\n",
        "  print('Exception did not occur.')"
      ],
      "metadata": {
        "id": "FO8YjK15yNFM",
        "outputId": "dc1e5cde-3a9f-4fa2-c81b-082e887f3a6e",
        "colab": {
          "base_uri": "https://localhost:8080/"
        }
      },
      "execution_count": 5,
      "outputs": [
        {
          "output_type": "stream",
          "name": "stdout",
          "text": [
            "How are you?\n",
            "Exception did not occur.\n"
          ]
        }
      ]
    },
    {
      "cell_type": "code",
      "source": [
        "# 위 4️⃣  (try: ~ exception: ~ finally: exeption 예외 발생의 유무에 상관없이 무조건 실행되는 finally 부분 )\n",
        "\n",
        "try:\n",
        "  print ('How are you?')\n",
        "  print (param)\n",
        "\n",
        "except:\n",
        "  print ('Exception occurred.')\n",
        "\n",
        "finally:\n",
        "  print ('This code should be running.')"
      ],
      "metadata": {
        "colab": {
          "base_uri": "https://localhost:8080/"
        },
        "id": "k8-JM-FevYkh",
        "outputId": "44eff2cb-d0fe-444a-a22c-b614bc446a03"
      },
      "execution_count": null,
      "outputs": [
        {
          "output_type": "stream",
          "name": "stdout",
          "text": [
            "How are you?\n",
            "Exception occurred.\n",
            "This code should be running.\n"
          ]
        }
      ]
    },
    {
      "cell_type": "code",
      "source": [
        "try:\n",
        "  print('How are you?')\n",
        "  print(parm)\n",
        "\n",
        "except:\n",
        "  print('Exception occurred')\n",
        "\n",
        "finally:\n",
        "  print('This code shoule berunning')"
      ],
      "metadata": {
        "id": "JPjAho3CyeQF",
        "outputId": "76534b2b-7ca1-41cb-ff80-7aba8ba60988",
        "colab": {
          "base_uri": "https://localhost:8080/"
        }
      },
      "execution_count": 6,
      "outputs": [
        {
          "output_type": "stream",
          "name": "stdout",
          "text": [
            "How are you?\n",
            "Exception occurred\n",
            "This code shoule berunning\n"
          ]
        }
      ]
    },
    {
      "cell_type": "code",
      "source": [
        "# 위 4️⃣  (try: ~ exception: ~ finally: exeption 예외 발생의 유무에 상관없이 무조건 실행되는 finally 부분 )\n",
        "\n",
        "try:\n",
        "  print ('How are you?')\n",
        "# print (param)\n",
        "\n",
        "except:\n",
        "  print ('Exception occurred.')\n",
        "\n",
        "finally:\n",
        "  print ('This code should be running.')"
      ],
      "metadata": {
        "id": "UjK2z3ctQd3G",
        "outputId": "5cddb16c-bd86-49ac-fede-7bf6775ab1a1",
        "colab": {
          "base_uri": "https://localhost:8080/"
        }
      },
      "execution_count": null,
      "outputs": [
        {
          "output_type": "stream",
          "name": "stdout",
          "text": [
            "How are you?\n",
            "This code should be running.\n"
          ]
        }
      ]
    },
    {
      "cell_type": "code",
      "source": [
        "try:\n",
        "  print('How are you?')\n",
        "  #print(parm)\n",
        "\n",
        "except:\n",
        "  print('Exception occurred')\n",
        "\n",
        "finally:\n",
        "  print('This code shoule berunning')"
      ],
      "metadata": {
        "id": "WTgAJw8TyrHN",
        "outputId": "d72c75d9-9535-4d32-cb4c-7cd7d3317278",
        "colab": {
          "base_uri": "https://localhost:8080/"
        }
      },
      "execution_count": 7,
      "outputs": [
        {
          "output_type": "stream",
          "name": "stdout",
          "text": [
            "How are you?\n",
            "This code shoule berunning\n"
          ]
        }
      ]
    }
  ]
}