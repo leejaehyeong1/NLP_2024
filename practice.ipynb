{
  "nbformat": 4,
  "nbformat_minor": 0,
  "metadata": {
    "colab": {
      "provenance": [],
      "authorship_tag": "ABX9TyP9K4j0xDwYNnBaVIIL80/e",
      "include_colab_link": true
    },
    "kernelspec": {
      "name": "python3",
      "display_name": "Python 3"
    },
    "language_info": {
      "name": "python"
    }
  },
  "cells": [
    {
      "cell_type": "markdown",
      "metadata": {
        "id": "view-in-github",
        "colab_type": "text"
      },
      "source": [
        "<a href=\"https://colab.research.google.com/github/leejaehyeong1/NLP_2024/blob/main/practice.ipynb\" target=\"_parent\"><img src=\"https://colab.research.google.com/assets/colab-badge.svg\" alt=\"Open In Colab\"/></a>"
      ]
    },
    {
      "cell_type": "code",
      "source": [
        "#0"
      ],
      "metadata": {
        "id": "sWzSE4zSkWRu"
      },
      "execution_count": null,
      "outputs": []
    },
    {
      "cell_type": "markdown",
      "source": [
        "# **How to use <font color = 'red'>Markdown Language**\n",
        "* ## for <font color='orange'>more syntax</font> of markdown language, [Click here.](https://www.markdownguide.org/basic-syntax/)"
      ],
      "metadata": {
        "id": "5QYgjEMCeLrB"
      }
    },
    {
      "cell_type": "markdown",
      "source": [
        "# **Python Language**\n",
        "\n",
        "## **Learning Python** using **Colab** ([Visit Colab homepage](https://colab.research.google.com/?utm_source=scs-index)) and **Github** ([Visit Colab homepage](https://github.com/))\n",
        "\n",
        "###**1. Sign up github** ([Visit atutorial on Youtube](https://www.youtube.com/watch?v=c-NikCpec7U))\n",
        "\n",
        "###**2. Sign up Google Colaboratory** (aka.Colab)\n",
        "([Visit atutorial on Youtube](https://www.youtube.com/watch?v=2X_EU18OeYM))\n",
        "\n",
        "###**3. Useful References**\n",
        "- ##### Exercise 200 파이썬200제 by.장삼용.정보문화사2017\n",
        "-[Jump to Python](https://wikidocs.net/book/1)\n",
        "-[wikidocs for nltk](https://wikidocs.net/21667)\n",
        "\n",
        "###**4. Markdown Language**\n",
        "- ##### [Emoji](https://gist.github.com/rxaviers/7360908)\n",
        "-[Markdown syntax](https://www.markdownguide.org/basic-syntax/)\n",
        "\n",
        "###**5. Class Materials**\n",
        "| # | Sessions | Keywords |\n",
        "|:-:|:-:|:-:|\n",
        "| 1 |Markdown Language👪 | [syntax](https://github.com/ms624atyale/NLP_2024/blob/main/0_MarkDown4README_md.ipynb) |\n"
      ],
      "metadata": {
        "id": "U37csrqHeMOl"
      }
    },
    {
      "cell_type": "code",
      "source": [
        "#1"
      ],
      "metadata": {
        "id": "jcf0it_1kXlP"
      },
      "execution_count": 1,
      "outputs": []
    },
    {
      "cell_type": "code",
      "source": [
        "a = 1\n",
        "b = 2\n",
        "print(a+b)"
      ],
      "metadata": {
        "colab": {
          "base_uri": "https://localhost:8080/"
        },
        "id": "EcEz0ru4kYez",
        "outputId": "3327dfe5-ad87-4529-ade2-11d52c93d832"
      },
      "execution_count": 3,
      "outputs": [
        {
          "output_type": "stream",
          "name": "stdout",
          "text": [
            "3\n"
          ]
        }
      ]
    },
    {
      "cell_type": "code",
      "source": [
        "c = 1\n",
        "print(c)"
      ],
      "metadata": {
        "colab": {
          "base_uri": "https://localhost:8080/"
        },
        "id": "GOvxYz0EklxE",
        "outputId": "b4590dce-c9ca-4767-bb0e-51c6cadfead2"
      },
      "execution_count": 4,
      "outputs": [
        {
          "output_type": "stream",
          "name": "stdout",
          "text": [
            "1\n"
          ]
        }
      ]
    },
    {
      "cell_type": "code",
      "source": [
        "print(a-b+c)"
      ],
      "metadata": {
        "colab": {
          "base_uri": "https://localhost:8080/"
        },
        "id": "t3q26kvAko2k",
        "outputId": "f8b2f50c-94e3-403a-8793-e0189c066f54"
      },
      "execution_count": 6,
      "outputs": [
        {
          "output_type": "stream",
          "name": "stdout",
          "text": [
            "0\n"
          ]
        }
      ]
    },
    {
      "cell_type": "code",
      "source": [
        "import keyword\n",
        "keyword.kwlist"
      ],
      "metadata": {
        "colab": {
          "base_uri": "https://localhost:8080/"
        },
        "id": "GrLW_WQLksK1",
        "outputId": "176ff22f-c956-45ac-b9fa-9e63d4dd2961"
      },
      "execution_count": 7,
      "outputs": [
        {
          "output_type": "execute_result",
          "data": {
            "text/plain": [
              "['False',\n",
              " 'None',\n",
              " 'True',\n",
              " 'and',\n",
              " 'as',\n",
              " 'assert',\n",
              " 'async',\n",
              " 'await',\n",
              " 'break',\n",
              " 'class',\n",
              " 'continue',\n",
              " 'def',\n",
              " 'del',\n",
              " 'elif',\n",
              " 'else',\n",
              " 'except',\n",
              " 'finally',\n",
              " 'for',\n",
              " 'from',\n",
              " 'global',\n",
              " 'if',\n",
              " 'import',\n",
              " 'in',\n",
              " 'is',\n",
              " 'lambda',\n",
              " 'nonlocal',\n",
              " 'not',\n",
              " 'or',\n",
              " 'pass',\n",
              " 'raise',\n",
              " 'return',\n",
              " 'try',\n",
              " 'while',\n",
              " 'with',\n",
              " 'yield']"
            ]
          },
          "metadata": {},
          "execution_count": 7
        }
      ]
    },
    {
      "cell_type": "code",
      "source": [
        "#3"
      ],
      "metadata": {
        "id": "txXgq4AnljLc"
      },
      "execution_count": 8,
      "outputs": []
    },
    {
      "cell_type": "code",
      "source": [],
      "metadata": {
        "id": "wVsFmGsoljnH"
      },
      "execution_count": null,
      "outputs": []
    }
  ]
}