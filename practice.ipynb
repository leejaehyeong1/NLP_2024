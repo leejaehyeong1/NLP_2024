{
  "nbformat": 4,
  "nbformat_minor": 0,
  "metadata": {
    "colab": {
      "provenance": [],
      "authorship_tag": "ABX9TyNfwgJeqdoM9CWD9JwFMCCG",
      "include_colab_link": true
    },
    "kernelspec": {
      "name": "python3",
      "display_name": "Python 3"
    },
    "language_info": {
      "name": "python"
    }
  },
  "cells": [
    {
      "cell_type": "markdown",
      "metadata": {
        "id": "view-in-github",
        "colab_type": "text"
      },
      "source": [
        "<a href=\"https://colab.research.google.com/github/leejaehyeong1/NLP_2024/blob/main/practice.ipynb\" target=\"_parent\"><img src=\"https://colab.research.google.com/assets/colab-badge.svg\" alt=\"Open In Colab\"/></a>"
      ]
    },
    {
      "cell_type": "code",
      "source": [
        "#0"
      ],
      "metadata": {
        "id": "sWzSE4zSkWRu"
      },
      "execution_count": null,
      "outputs": []
    },
    {
      "cell_type": "markdown",
      "source": [
        "# **How to use <font color = 'red'>Markdown Language**\n",
        "* ## for <font color='orange'>more syntax</font> of markdown language, [Click here.](https://www.markdownguide.org/basic-syntax/)"
      ],
      "metadata": {
        "id": "5QYgjEMCeLrB"
      }
    },
    {
      "cell_type": "markdown",
      "source": [
        "# **Python Language**\n",
        "\n",
        "## **Learning Python** using **Colab** ([Visit Colab homepage](https://colab.research.google.com/?utm_source=scs-index)) and **Github** ([Visit Colab homepage](https://github.com/))\n",
        "\n",
        "###**1. Sign up github** ([Visit atutorial on Youtube](https://www.youtube.com/watch?v=c-NikCpec7U))\n",
        "\n",
        "###**2. Sign up Google Colaboratory** (aka.Colab)\n",
        "([Visit atutorial on Youtube](https://www.youtube.com/watch?v=2X_EU18OeYM))\n",
        "\n",
        "###**3. Useful References**\n",
        "- ##### Exercise 200 파이썬200제 by.장삼용.정보문화사2017\n",
        "-[Jump to Python](https://wikidocs.net/book/1)\n",
        "-[wikidocs for nltk](https://wikidocs.net/21667)\n",
        "\n",
        "###**4. Markdown Language**\n",
        "- ##### [Emoji](https://gist.github.com/rxaviers/7360908)\n",
        "-[Markdown syntax](https://www.markdownguide.org/basic-syntax/)\n",
        "\n",
        "###**5. Class Materials**\n",
        "| # | Sessions | Keywords |\n",
        "|:-:|:-:|:-:|\n",
        "| 1 |Markdown Language👪 | [syntax](https://github.com/ms624atyale/NLP_2024/blob/main/0_MarkDown4README_md.ipynb) |\n"
      ],
      "metadata": {
        "id": "U37csrqHeMOl"
      }
    },
    {
      "cell_type": "code",
      "source": [
        "#1"
      ],
      "metadata": {
        "id": "jcf0it_1kXlP"
      },
      "execution_count": null,
      "outputs": []
    },
    {
      "cell_type": "code",
      "source": [
        "a = 1\n",
        "b = 2\n",
        "print(a+b)"
      ],
      "metadata": {
        "colab": {
          "base_uri": "https://localhost:8080/"
        },
        "id": "EcEz0ru4kYez",
        "outputId": "3327dfe5-ad87-4529-ade2-11d52c93d832"
      },
      "execution_count": null,
      "outputs": [
        {
          "output_type": "stream",
          "name": "stdout",
          "text": [
            "3\n"
          ]
        }
      ]
    },
    {
      "cell_type": "code",
      "source": [
        "c = 1\n",
        "print(c)"
      ],
      "metadata": {
        "colab": {
          "base_uri": "https://localhost:8080/"
        },
        "id": "GOvxYz0EklxE",
        "outputId": "b4590dce-c9ca-4767-bb0e-51c6cadfead2"
      },
      "execution_count": null,
      "outputs": [
        {
          "output_type": "stream",
          "name": "stdout",
          "text": [
            "1\n"
          ]
        }
      ]
    },
    {
      "cell_type": "code",
      "source": [
        "print(a-b+c)"
      ],
      "metadata": {
        "colab": {
          "base_uri": "https://localhost:8080/"
        },
        "id": "t3q26kvAko2k",
        "outputId": "f8b2f50c-94e3-403a-8793-e0189c066f54"
      },
      "execution_count": null,
      "outputs": [
        {
          "output_type": "stream",
          "name": "stdout",
          "text": [
            "0\n"
          ]
        }
      ]
    },
    {
      "cell_type": "code",
      "source": [
        "import keyword\n",
        "keyword.kwlist"
      ],
      "metadata": {
        "colab": {
          "base_uri": "https://localhost:8080/"
        },
        "id": "GrLW_WQLksK1",
        "outputId": "176ff22f-c956-45ac-b9fa-9e63d4dd2961"
      },
      "execution_count": null,
      "outputs": [
        {
          "output_type": "execute_result",
          "data": {
            "text/plain": [
              "['False',\n",
              " 'None',\n",
              " 'True',\n",
              " 'and',\n",
              " 'as',\n",
              " 'assert',\n",
              " 'async',\n",
              " 'await',\n",
              " 'break',\n",
              " 'class',\n",
              " 'continue',\n",
              " 'def',\n",
              " 'del',\n",
              " 'elif',\n",
              " 'else',\n",
              " 'except',\n",
              " 'finally',\n",
              " 'for',\n",
              " 'from',\n",
              " 'global',\n",
              " 'if',\n",
              " 'import',\n",
              " 'in',\n",
              " 'is',\n",
              " 'lambda',\n",
              " 'nonlocal',\n",
              " 'not',\n",
              " 'or',\n",
              " 'pass',\n",
              " 'raise',\n",
              " 'return',\n",
              " 'try',\n",
              " 'while',\n",
              " 'with',\n",
              " 'yield']"
            ]
          },
          "metadata": {},
          "execution_count": 7
        }
      ]
    },
    {
      "cell_type": "code",
      "source": [
        "#3"
      ],
      "metadata": {
        "id": "txXgq4AnljLc"
      },
      "execution_count": null,
      "outputs": []
    },
    {
      "cell_type": "code",
      "source": [
        "str_data = ' i love python'\n",
        "list_data = ['apple','banana','grapes','mango']\n",
        "tuple_data = ('apple','banana','grapes','mango')\n",
        "\n",
        "print(str_data)\n",
        "print(list_data)\n",
        "print(tuple_data)"
      ],
      "metadata": {
        "id": "wVsFmGsoljnH",
        "outputId": "d47769ef-517c-44c5-a88b-7db2dcd110a6",
        "colab": {
          "base_uri": "https://localhost:8080/"
        }
      },
      "execution_count": 1,
      "outputs": [
        {
          "output_type": "stream",
          "name": "stdout",
          "text": [
            " i love python\n",
            "['apple', 'banana', 'grapes', 'mango']\n",
            "('apple', 'banana', 'grapes', 'mango')\n"
          ]
        }
      ]
    },
    {
      "cell_type": "code",
      "source": [
        "str_data = 'Time is money!!'\n",
        "print(str_data[1:5])\n",
        "print(str_data[:-1])\n",
        "print(str_data[:])\n",
        "print(str_data[-3:])"
      ],
      "metadata": {
        "id": "MfdzX_pCHYLL",
        "outputId": "b8348d71-8502-4d4d-fe01-2818782e170b",
        "colab": {
          "base_uri": "https://localhost:8080/"
        }
      },
      "execution_count": 7,
      "outputs": [
        {
          "output_type": "stream",
          "name": "stdout",
          "text": [
            "ime \n",
            "Time is money!\n",
            "Time is money!!\n",
            "y!!\n"
          ]
        }
      ]
    },
    {
      "cell_type": "code",
      "source": [
        "str_data = 'My Name Is lgh'\n",
        "print(str_data[1:5])\n",
        "print(str_data[:-3])\n",
        "print(str_data[5:])\n",
        "print(str_data[::3])"
      ],
      "metadata": {
        "id": "qq88F_JWMHLs",
        "outputId": "32b45912-b52d-4cc7-e79d-5e065586de9c",
        "colab": {
          "base_uri": "https://localhost:8080/"
        }
      },
      "execution_count": 8,
      "outputs": [
        {
          "output_type": "stream",
          "name": "stdout",
          "text": [
            "y Na\n",
            "My Name Is \n",
            "me Is lgh\n",
            "MNesg\n"
          ]
        }
      ]
    },
    {
      "cell_type": "code",
      "source": [
        "strdata1 = 'i love'; strdata2 = 'python'\n",
        "print(strdata1 + strdata2)\n",
        "print(strdata1*2)\n",
        "print(len(strdata1))"
      ],
      "metadata": {
        "id": "IMvpVpwEMnIv",
        "outputId": "4f3b1870-87f9-457b-b2a9-5926187d66b1",
        "colab": {
          "base_uri": "https://localhost:8080/"
        }
      },
      "execution_count": 11,
      "outputs": [
        {
          "output_type": "stream",
          "name": "stdout",
          "text": [
            "i lovepython\n",
            "i lovei love\n",
            "6\n"
          ]
        }
      ]
    },
    {
      "cell_type": "code",
      "source": [
        "#4"
      ],
      "metadata": {
        "id": "rX9miraVOmAT"
      },
      "execution_count": 12,
      "outputs": []
    },
    {
      "cell_type": "code",
      "source": [
        "x = 100\n",
        "y = 95\n",
        "\n",
        "if x>y:\n",
        "  print('x is greater than y.')\n",
        "\n",
        "else:\n",
        "  print('x is smaller than or equal to y.')"
      ],
      "metadata": {
        "id": "pBnuH5riOmoQ",
        "outputId": "fb6568b8-7721-4795-ccbc-02cf32c36b65",
        "colab": {
          "base_uri": "https://localhost:8080/"
        }
      },
      "execution_count": 13,
      "outputs": [
        {
          "output_type": "stream",
          "name": "stdout",
          "text": [
            "x is greater than y.\n"
          ]
        }
      ]
    },
    {
      "cell_type": "code",
      "source": [
        "listdata = ['a','b','c']\n",
        "\n",
        "if 'a' in listdata:\n",
        "  print('a가 list안에 있습니다.')\n",
        "  print(listdata)"
      ],
      "metadata": {
        "id": "JL98bOlSPsxl",
        "outputId": "1d2a1ba8-da2b-4375-d995-cde9825ca823",
        "colab": {
          "base_uri": "https://localhost:8080/"
        }
      },
      "execution_count": 15,
      "outputs": [
        {
          "output_type": "stream",
          "name": "stdout",
          "text": [
            "a가 list안에 있습니다.\n",
            "['a', 'b', 'c']\n"
          ]
        }
      ]
    },
    {
      "cell_type": "code",
      "source": [
        "numbers = (1,2,3,4,5,6,7,8,9)\n",
        "\n",
        "for i in numbers:\n",
        "  print(i)"
      ],
      "metadata": {
        "id": "r3a8jDbCRR3J",
        "outputId": "28ecd1c5-a634-4af6-f16f-8251f28a129e",
        "colab": {
          "base_uri": "https://localhost:8080/"
        }
      },
      "execution_count": 18,
      "outputs": [
        {
          "output_type": "stream",
          "name": "stdout",
          "text": [
            "1\n",
            "2\n",
            "3\n",
            "4\n",
            "5\n",
            "6\n",
            "7\n",
            "8\n",
            "9\n"
          ]
        }
      ]
    },
    {
      "cell_type": "code",
      "source": [
        "import keyword\n",
        "keyword.kwlist"
      ],
      "metadata": {
        "id": "425QM7LCRnMJ",
        "outputId": "56b6c412-9e4f-40bc-9d70-401d48ad2d2e",
        "colab": {
          "base_uri": "https://localhost:8080/"
        }
      },
      "execution_count": 20,
      "outputs": [
        {
          "output_type": "execute_result",
          "data": {
            "text/plain": [
              "['False',\n",
              " 'None',\n",
              " 'True',\n",
              " 'and',\n",
              " 'as',\n",
              " 'assert',\n",
              " 'async',\n",
              " 'await',\n",
              " 'break',\n",
              " 'class',\n",
              " 'continue',\n",
              " 'def',\n",
              " 'del',\n",
              " 'elif',\n",
              " 'else',\n",
              " 'except',\n",
              " 'finally',\n",
              " 'for',\n",
              " 'from',\n",
              " 'global',\n",
              " 'if',\n",
              " 'import',\n",
              " 'in',\n",
              " 'is',\n",
              " 'lambda',\n",
              " 'nonlocal',\n",
              " 'not',\n",
              " 'or',\n",
              " 'pass',\n",
              " 'raise',\n",
              " 'return',\n",
              " 'try',\n",
              " 'while',\n",
              " 'with',\n",
              " 'yield']"
            ]
          },
          "metadata": {},
          "execution_count": 20
        }
      ]
    },
    {
      "cell_type": "code",
      "source": [
        "clas = ['sam','Emily','Todd']\n",
        "\n",
        "for i in clas:\n",
        "  print(i)"
      ],
      "metadata": {
        "id": "Y3x-OtZSR5P3",
        "outputId": "0d576c50-f1f1-4dab-ff31-b68856e3961c",
        "colab": {
          "base_uri": "https://localhost:8080/"
        }
      },
      "execution_count": 23,
      "outputs": [
        {
          "output_type": "stream",
          "name": "stdout",
          "text": [
            "sam\n",
            "Emily\n",
            "Todd\n"
          ]
        }
      ]
    },
    {
      "cell_type": "code",
      "source": [
        "import keyword\n",
        "keyword.kwlist"
      ],
      "metadata": {
        "id": "IzL-cm0lTnk4",
        "outputId": "ac77298c-ae03-4e1a-8de7-6dbd0740ca68",
        "colab": {
          "base_uri": "https://localhost:8080/"
        }
      },
      "execution_count": 25,
      "outputs": [
        {
          "output_type": "execute_result",
          "data": {
            "text/plain": [
              "['False',\n",
              " 'None',\n",
              " 'True',\n",
              " 'and',\n",
              " 'as',\n",
              " 'assert',\n",
              " 'async',\n",
              " 'await',\n",
              " 'break',\n",
              " 'class',\n",
              " 'continue',\n",
              " 'def',\n",
              " 'del',\n",
              " 'elif',\n",
              " 'else',\n",
              " 'except',\n",
              " 'finally',\n",
              " 'for',\n",
              " 'from',\n",
              " 'global',\n",
              " 'if',\n",
              " 'import',\n",
              " 'in',\n",
              " 'is',\n",
              " 'lambda',\n",
              " 'nonlocal',\n",
              " 'not',\n",
              " 'or',\n",
              " 'pass',\n",
              " 'raise',\n",
              " 'return',\n",
              " 'try',\n",
              " 'while',\n",
              " 'with',\n",
              " 'yield']"
            ]
          },
          "metadata": {},
          "execution_count": 25
        }
      ]
    },
    {
      "cell_type": "code",
      "source": [
        "for i in range(3):\n",
        "  print(i)\n",
        "\n",
        "type(i)"
      ],
      "metadata": {
        "id": "VKqui0QeU-ot",
        "outputId": "ee96b105-8603-4fe9-d796-0394f0b574a0",
        "colab": {
          "base_uri": "https://localhost:8080/"
        }
      },
      "execution_count": 29,
      "outputs": [
        {
          "output_type": "stream",
          "name": "stdout",
          "text": [
            "0\n",
            "1\n",
            "2\n"
          ]
        },
        {
          "output_type": "execute_result",
          "data": {
            "text/plain": [
              "int"
            ]
          },
          "metadata": {},
          "execution_count": 29
        }
      ]
    },
    {
      "cell_type": "code",
      "source": [
        "scope=[1,2,3,4,5]\n",
        "\n",
        "for i in scope:\n",
        "  print(i)\n",
        "  if i<3:\n",
        "    continue\n",
        "  else:\n",
        "      break"
      ],
      "metadata": {
        "id": "UPv-ezwLVQCz",
        "outputId": "c759b007-1b71-46d6-b7ad-667f96a5a1fc",
        "colab": {
          "base_uri": "https://localhost:8080/"
        }
      },
      "execution_count": 34,
      "outputs": [
        {
          "output_type": "stream",
          "name": "stdout",
          "text": [
            "1\n",
            "2\n",
            "3\n"
          ]
        }
      ]
    },
    {
      "cell_type": "code",
      "source": [
        "for i in scope:\n",
        "  print(i)\n",
        "else:\n",
        "  print('perfect')"
      ],
      "metadata": {
        "id": "jwytksaqWyal",
        "outputId": "b9e44d3f-d9dc-4056-e6c3-a42293945c0e",
        "colab": {
          "base_uri": "https://localhost:8080/"
        }
      },
      "execution_count": 35,
      "outputs": [
        {
          "output_type": "stream",
          "name": "stdout",
          "text": [
            "1\n",
            "2\n",
            "3\n",
            "4\n",
            "5\n",
            "perfect\n"
          ]
        }
      ]
    },
    {
      "cell_type": "code",
      "source": [
        "list = [1,2,3]\n",
        "for i in list:\n",
        "  print(i)\n",
        "  break\n",
        "else:\n",
        "  print('perfect')"
      ],
      "metadata": {
        "id": "AvimhfJOXVsr",
        "outputId": "5a83588b-42de-4ed8-c144-c04915e93dd9",
        "colab": {
          "base_uri": "https://localhost:8080/"
        }
      },
      "execution_count": 37,
      "outputs": [
        {
          "output_type": "stream",
          "name": "stdout",
          "text": [
            "1\n"
          ]
        }
      ]
    },
    {
      "cell_type": "code",
      "source": [
        "try:\n",
        "  print('how are you?')\n",
        "  print(param)\n",
        "\n",
        "except:\n",
        "  print('Exception occurred')"
      ],
      "metadata": {
        "id": "PisYAFjjZ7q-",
        "outputId": "3976ad67-a1b0-4eba-b916-f9f95e8260e8",
        "colab": {
          "base_uri": "https://localhost:8080/"
        }
      },
      "execution_count": 38,
      "outputs": [
        {
          "output_type": "stream",
          "name": "stdout",
          "text": [
            "how are you?\n",
            "Exception occurred\n"
          ]
        }
      ]
    },
    {
      "cell_type": "code",
      "source": [
        "try:\n",
        "  print('how are you?')\n",
        "\n",
        "\n",
        "except:\n",
        "  print('Exception occurred')\n",
        "\n",
        "else:\n",
        "  print('Exception did not occur.')\n",
        "\n",
        "finally:\n",
        "  print('aaaa')"
      ],
      "metadata": {
        "id": "NggqHGgZZ7PP",
        "outputId": "c262bdaf-bb03-41d0-e427-02d8863f4d84",
        "colab": {
          "base_uri": "https://localhost:8080/"
        }
      },
      "execution_count": 43,
      "outputs": [
        {
          "output_type": "stream",
          "name": "stdout",
          "text": [
            "how are you?\n",
            "Exception did not occur.\n",
            "aaaa\n"
          ]
        }
      ]
    },
    {
      "cell_type": "code",
      "source": [
        "counter = 10\n",
        "\n",
        "while counter >=0:\n",
        "  print(counter)\n",
        "  counter -=2\n",
        "\n",
        "print('loop finished')"
      ],
      "metadata": {
        "id": "O_lZ-WDSfaNk",
        "outputId": "59f74be6-4547-44f8-8e65-dfdc37a67715",
        "colab": {
          "base_uri": "https://localhost:8080/"
        }
      },
      "execution_count": 54,
      "outputs": [
        {
          "output_type": "stream",
          "name": "stdout",
          "text": [
            "10\n",
            "8\n",
            "6\n",
            "4\n",
            "2\n",
            "0\n",
            "loop finished\n"
          ]
        }
      ]
    },
    {
      "cell_type": "code",
      "source": [
        "import re #5"
      ],
      "metadata": {
        "id": "yUj2NKNLiXov"
      },
      "execution_count": 56,
      "outputs": []
    },
    {
      "cell_type": "code",
      "source": [
        "text = 'cat,wat,bat,sat,mat,combat,unbated'\n",
        "pattern = r\".at\"\n",
        "\n",
        "matches = re.findall(pattern, text)\n",
        "for i in matches:\n",
        "  print('Match:',i)\n",
        "\n",
        "print('\\n')\n",
        "\n",
        "for match in matches:\n",
        "  print('match:',match)\n"
      ],
      "metadata": {
        "id": "Y5ySZSeYiZ-k",
        "outputId": "de122ccd-7cbe-48cf-cd56-7c052b164ef0",
        "colab": {
          "base_uri": "https://localhost:8080/"
        }
      },
      "execution_count": 63,
      "outputs": [
        {
          "output_type": "stream",
          "name": "stdout",
          "text": [
            "Match: cat\n",
            "Match: wat\n",
            "Match: bat\n",
            "Match: sat\n",
            "Match: mat\n",
            "Match: bat\n",
            "Match: bat\n",
            "\n",
            "\n",
            "match: cat\n",
            "match: wat\n",
            "match: bat\n",
            "match: sat\n",
            "match: mat\n",
            "match: bat\n",
            "match: bat\n"
          ]
        }
      ]
    },
    {
      "cell_type": "code",
      "source": [
        "text = 'cat,wat,bat,sat,mat,combat,unbated'\n",
        "pattern = r\".at\"\n",
        "\n",
        "matches = re.findall(pattern, text)\n",
        "\n",
        "print(match)\n",
        "print('\\n')\n",
        "\n",
        "for i in matches:\n",
        "  print('Match:',i)\n"
      ],
      "metadata": {
        "id": "8CRHuChkqUsR",
        "outputId": "50d87359-dbf4-4a4d-b36d-acdaca1a9d43",
        "colab": {
          "base_uri": "https://localhost:8080/"
        }
      },
      "execution_count": 65,
      "outputs": [
        {
          "output_type": "stream",
          "name": "stdout",
          "text": [
            "bat\n",
            "\n",
            "\n",
            "Match: cat\n",
            "Match: wat\n",
            "Match: bat\n",
            "Match: sat\n",
            "Match: mat\n",
            "Match: bat\n",
            "Match: bat\n"
          ]
        }
      ]
    },
    {
      "cell_type": "code",
      "source": [
        "text = \"color or colour?\"\n",
        "pattern = r\"colou?r\"\n",
        "\n",
        "matches = re.findall(pattern, text)\n",
        "\n",
        "for i in matches:\n",
        "  print('Match:',i)"
      ],
      "metadata": {
        "id": "vm6qQEcLtkow",
        "outputId": "19c577dd-ebd8-42d1-b35f-c24b9c3cf693",
        "colab": {
          "base_uri": "https://localhost:8080/"
        }
      },
      "execution_count": 68,
      "outputs": [
        {
          "output_type": "stream",
          "name": "stdout",
          "text": [
            "Match: color\n",
            "Match: colour\n"
          ]
        }
      ]
    },
    {
      "cell_type": "code",
      "source": [
        "text = 'ab, ac, abc,abbc, aabbc, abbbbbbbbbc, abkc'\n",
        "pattern = r'ab*c'\n",
        "\n",
        "matches = re.findall(pattern,text)\n",
        "\n",
        "for i in matches:\n",
        "  print('Match:',i)"
      ],
      "metadata": {
        "id": "56gpPMq6xOou",
        "outputId": "36a8609e-25be-4c8a-e539-9ebae6459154",
        "colab": {
          "base_uri": "https://localhost:8080/"
        }
      },
      "execution_count": 70,
      "outputs": [
        {
          "output_type": "stream",
          "name": "stdout",
          "text": [
            "Match: ac\n",
            "Match: abc\n",
            "Match: abbc\n",
            "Match: abbc\n",
            "Match: abbbbbbbbbc\n"
          ]
        }
      ]
    },
    {
      "cell_type": "code",
      "source": [
        "text = 'cat, caat, caaat, caot, sat, set'\n",
        "pattern = r'ca+t'\n",
        "\n",
        "matches = re.findall(pattern, text)\n",
        "\n",
        "for i in matches:\n",
        "  print('match:',i)"
      ],
      "metadata": {
        "id": "rO5-S6KWyhpI",
        "outputId": "19b371e7-acae-4079-a40f-1cc734b0b52f",
        "colab": {
          "base_uri": "https://localhost:8080/"
        }
      },
      "execution_count": 71,
      "outputs": [
        {
          "output_type": "stream",
          "name": "stdout",
          "text": [
            "match: cat\n",
            "match: caat\n",
            "match: caaat\n"
          ]
        }
      ]
    },
    {
      "cell_type": "code",
      "source": [
        "text = \"Python is a popular programming language. Python is versatile.\"\n",
        "pattern = r'language.$'\n",
        "\n",
        "matches = re.findall(pattern, text)\n",
        "\n",
        "for i in matches:\n",
        "    print(\"Match:\", i)"
      ],
      "metadata": {
        "id": "TsqkHj9_zCXv"
      },
      "execution_count": 72,
      "outputs": []
    },
    {
      "cell_type": "code",
      "source": [
        "text = \"Python is a popular programming language. Python is versatile.\"\n",
        "pattern = r'versatile.$'\n",
        "\n",
        "matches = re.findall(pattern,text)\n",
        "\n",
        "for i in matches:\n",
        "  print('match:',i)"
      ],
      "metadata": {
        "id": "Vp-7GK-Hze73",
        "outputId": "4bd9caf7-3ea4-4761-e0e2-9120e58956ce",
        "colab": {
          "base_uri": "https://localhost:8080/"
        }
      },
      "execution_count": 75,
      "outputs": [
        {
          "output_type": "stream",
          "name": "stdout",
          "text": [
            "match: versatile.\n"
          ]
        }
      ]
    },
    {
      "cell_type": "code",
      "source": [
        "text = \"Python is a popular programming language. Python is versatile!\"\n",
        "pattern = r'versatile.$'\n",
        "\n",
        "matches = re.findall(pattern, text)\n",
        "\n",
        "for i in matches:\n",
        "    print(\"Match:\", i)"
      ],
      "metadata": {
        "id": "pfZmYirn0wPU",
        "outputId": "302f0f18-93b7-4bd3-da56-8359447d7553",
        "colab": {
          "base_uri": "https://localhost:8080/"
        }
      },
      "execution_count": 76,
      "outputs": [
        {
          "output_type": "stream",
          "name": "stdout",
          "text": [
            "Match: versatile!\n"
          ]
        }
      ]
    },
    {
      "cell_type": "code",
      "source": [
        "text = \"Python is a programming language. Python is versatile. We all love Python.\"\n",
        "pattern = r'^Python'\n",
        "\n",
        "matches = re.findall(pattern, text)\n",
        "\n",
        "for i in matches:\n",
        "  print('match:',i)"
      ],
      "metadata": {
        "id": "PWEiUkpY1Q1y",
        "outputId": "aa98581e-b6ff-44cb-a8f0-fcb1ab1d02ca",
        "colab": {
          "base_uri": "https://localhost:8080/"
        }
      },
      "execution_count": 77,
      "outputs": [
        {
          "output_type": "stream",
          "name": "stdout",
          "text": [
            "match: Python\n"
          ]
        }
      ]
    },
    {
      "cell_type": "code",
      "source": [
        "text = \"123 4567 89 12345\"\n",
        "pattern = r'\\d{3,5}'\n",
        "\n",
        "matches = re.findall(pattern, text)\n",
        "\n",
        "for i in matches:\n",
        "  print('match:',i)"
      ],
      "metadata": {
        "id": "LevA0sYA2tQ5",
        "outputId": "20cf1ae3-ebb0-4d30-ca47-8b87d5ce2676",
        "colab": {
          "base_uri": "https://localhost:8080/"
        }
      },
      "execution_count": 79,
      "outputs": [
        {
          "output_type": "stream",
          "name": "stdout",
          "text": [
            "match: 123\n",
            "match: 4567\n",
            "match: 12345\n"
          ]
        }
      ]
    },
    {
      "cell_type": "code",
      "source": [
        "text = \"The word 'hello' is repeated many times: hello hello a hello hello hello\"\n",
        "pattern = r'(hello ){2,}'\n",
        "\n",
        "matches = re.findall(pattern, text)\n",
        "\n",
        "for i in matches:\n",
        "  print('match:',i)"
      ],
      "metadata": {
        "id": "KDZvQESb3YMt",
        "outputId": "e7b98ce7-eab5-4f34-beb0-46acb5e6ee08",
        "colab": {
          "base_uri": "https://localhost:8080/"
        }
      },
      "execution_count": 82,
      "outputs": [
        {
          "output_type": "stream",
          "name": "stdout",
          "text": [
            "match: hello \n",
            "match: hello \n"
          ]
        }
      ]
    },
    {
      "cell_type": "code",
      "source": [
        "text = \"The price is $100.\"\n",
        "pattern = r'[1234567890]'\n",
        "\n",
        "matches = re.findall(pattern, text)\n",
        "\n",
        "for i in matches:\n",
        "  print('match:',i)"
      ],
      "metadata": {
        "id": "HL-FLOpu363k",
        "outputId": "49da3b67-7f9b-4dfd-e8fb-0c2ee24cee65",
        "colab": {
          "base_uri": "https://localhost:8080/"
        }
      },
      "execution_count": 83,
      "outputs": [
        {
          "output_type": "stream",
          "name": "stdout",
          "text": [
            "match: 1\n",
            "match: 0\n",
            "match: 0\n"
          ]
        }
      ]
    },
    {
      "cell_type": "code",
      "source": [
        "text = \"The price is $100.\"\n",
        "pattern = r'[etz\\d]'\n",
        "\n",
        "matches = re.findall(pattern, text)\n",
        "\n",
        "print(matches)\n",
        "\n",
        "print('\\n')\n",
        "\n",
        "for i in matches:\n",
        "  print('match:',i)"
      ],
      "metadata": {
        "id": "LYIxwkMq4stO",
        "outputId": "133a880a-0de0-4a95-b14d-09280387cbe3",
        "colab": {
          "base_uri": "https://localhost:8080/"
        }
      },
      "execution_count": 86,
      "outputs": [
        {
          "output_type": "stream",
          "name": "stdout",
          "text": [
            "['e', 'e', '1', '0', '0']\n",
            "\n",
            "\n",
            "match: e\n",
            "match: e\n",
            "match: 1\n",
            "match: 0\n",
            "match: 0\n"
          ]
        }
      ]
    },
    {
      "cell_type": "code",
      "source": [
        "text = \"The price is $100.\"\n",
        "pattern1 = r'\\d'\n",
        "pattern2 = r'es'\n",
        "\n",
        "print(pattern1)\n",
        "print('\\n')\n",
        "print(pattern2)\n",
        "print('\\n')\n",
        "\n",
        "matches1 = re.findall(pattern1, text)\n",
        "for i in matches1:\n",
        "  print('match1:',i)\n",
        "\n",
        "matches2 = re.findall(pattern2,text)\n",
        "for i in matches2:\n",
        "  print('match2:',i)"
      ],
      "metadata": {
        "id": "tApN0NEJ8YKk",
        "outputId": "1a8d85c8-45dd-40a1-fd83-ac36b4c144df",
        "colab": {
          "base_uri": "https://localhost:8080/"
        }
      },
      "execution_count": 87,
      "outputs": [
        {
          "output_type": "stream",
          "name": "stdout",
          "text": [
            "\\d\n",
            "\n",
            "\n",
            "es\n",
            "\n",
            "\n",
            "match1: 1\n",
            "match1: 0\n",
            "match1: 0\n"
          ]
        }
      ]
    },
    {
      "cell_type": "code",
      "source": [
        "text = \"aaaThe quick brown fox jumps over the lazy dog.\"\n",
        "pattern = r'[a-zA-Z]'\n",
        "print(pattern)\n",
        "\n",
        "matches = re.findall(pattern, text)\n",
        "print(matches)\n",
        "\n",
        "for i in matches:\n",
        "  print('match:',i)"
      ],
      "metadata": {
        "id": "N3jPzi0q9sh2",
        "outputId": "9366e0b6-655b-44c7-d8f2-3ccaec17fead",
        "colab": {
          "base_uri": "https://localhost:8080/"
        }
      },
      "execution_count": 93,
      "outputs": [
        {
          "output_type": "stream",
          "name": "stdout",
          "text": [
            "[a-zA-Z]\n",
            "['a', 'a', 'a', 'T', 'h', 'e', 'q', 'u', 'i', 'c', 'k', 'b', 'r', 'o', 'w', 'n', 'f', 'o', 'x', 'j', 'u', 'm', 'p', 's', 'o', 'v', 'e', 'r', 't', 'h', 'e', 'l', 'a', 'z', 'y', 'd', 'o', 'g']\n",
            "match: a\n",
            "match: a\n",
            "match: a\n",
            "match: T\n",
            "match: h\n",
            "match: e\n",
            "match: q\n",
            "match: u\n",
            "match: i\n",
            "match: c\n",
            "match: k\n",
            "match: b\n",
            "match: r\n",
            "match: o\n",
            "match: w\n",
            "match: n\n",
            "match: f\n",
            "match: o\n",
            "match: x\n",
            "match: j\n",
            "match: u\n",
            "match: m\n",
            "match: p\n",
            "match: s\n",
            "match: o\n",
            "match: v\n",
            "match: e\n",
            "match: r\n",
            "match: t\n",
            "match: h\n",
            "match: e\n",
            "match: l\n",
            "match: a\n",
            "match: z\n",
            "match: y\n",
            "match: d\n",
            "match: o\n",
            "match: g\n"
          ]
        }
      ]
    },
    {
      "cell_type": "code",
      "source": [
        "text = \"In mathematics, 3.14 is a decimal approximation of the mathematical constant π (pi).\"\n",
        "pattern = r'[\\d]'\n",
        "\n",
        "matches = re.findall(pattern, text)\n",
        "\n",
        "for i in matches:\n",
        "  print('match:',i)"
      ],
      "metadata": {
        "id": "27i9CtaA-pxe",
        "outputId": "15a22e06-c6c6-46df-ad87-7ab490f8ab70",
        "colab": {
          "base_uri": "https://localhost:8080/"
        }
      },
      "execution_count": 96,
      "outputs": [
        {
          "output_type": "stream",
          "name": "stdout",
          "text": [
            "match: 3\n",
            "match: 1\n",
            "match: 4\n"
          ]
        }
      ]
    },
    {
      "cell_type": "code",
      "source": [
        "text = \"24 Hours a Day, 7 Days a Week, & 365 Days a Year!\"\n",
        "pattern = r'[^a-zA-Z0-9]'\n",
        "\n",
        "matches = re.findall(pattern, text)\n",
        "\n",
        "for i in matches:\n",
        "  print('match:',i)"
      ],
      "metadata": {
        "id": "BhSelcze_tye",
        "outputId": "36b6d30f-e52f-4ccd-bb9a-ebc0e17dc6d7",
        "colab": {
          "base_uri": "https://localhost:8080/"
        }
      },
      "execution_count": 99,
      "outputs": [
        {
          "output_type": "stream",
          "name": "stdout",
          "text": [
            "match:  \n",
            "match:  \n",
            "match:  \n",
            "match: ,\n",
            "match:  \n",
            "match:  \n",
            "match:  \n",
            "match:  \n",
            "match: ,\n",
            "match:  \n",
            "match: &\n",
            "match:  \n",
            "match:  \n",
            "match:  \n",
            "match:  \n",
            "match: !\n"
          ]
        }
      ]
    },
    {
      "cell_type": "code",
      "source": [
        "text = \"The color can be either red, green, or blue.\"\n",
        "pattern = r'(blue|red)'\n",
        "\n",
        "matches = re.findall(pattern, text)\n",
        "for i in matches:\n",
        "  print('match:',i)"
      ],
      "metadata": {
        "id": "6NZZYv_pAK1D",
        "outputId": "086790bb-0e42-439c-c9f8-727c12a61067",
        "colab": {
          "base_uri": "https://localhost:8080/"
        }
      },
      "execution_count": 100,
      "outputs": [
        {
          "output_type": "stream",
          "name": "stdout",
          "text": [
            "match: red\n",
            "match: blue\n"
          ]
        }
      ]
    }
  ]
}